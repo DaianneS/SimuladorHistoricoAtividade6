{
  "nbformat": 4,
  "nbformat_minor": 0,
  "metadata": {
    "colab": {
      "provenance": [],
      "authorship_tag": "ABX9TyPY7aKCHucgyTSDxzp5O5w+",
      "include_colab_link": true
    },
    "kernelspec": {
      "name": "python3",
      "display_name": "Python 3"
    },
    "language_info": {
      "name": "python"
    }
  },
  "cells": [
    {
      "cell_type": "markdown",
      "metadata": {
        "id": "view-in-github",
        "colab_type": "text"
      },
      "source": [
        "<a href=\"https://colab.research.google.com/github/DaianneS/SimuladorHistoricoAtividade6/blob/main/SimuladorHistoricoAtividade6.ipynb\" target=\"_parent\"><img src=\"https://colab.research.google.com/assets/colab-badge.svg\" alt=\"Open In Colab\"/></a>"
      ]
    },
    {
      "cell_type": "markdown",
      "source": [
        "##Classes\n"
      ],
      "metadata": {
        "id": "QkdhpFoDDg22"
      }
    },
    {
      "cell_type": "code",
      "execution_count": 11,
      "metadata": {
        "id": "s723xw_qjw-t"
      },
      "outputs": [],
      "source": [
        "class historicoNavegacao:\n",
        "  def __init__(self):\n",
        "    self.pilha = []\n",
        "\n",
        "  def visitarPagina(self, url):\n",
        "    self.pilha.append(url)\n",
        "    print(f\"Página visitada: {url}\")\n",
        "\n",
        "  def voltarPagina(self):\n",
        "    if self.pilha:\n",
        "      urlRemovida = self.pilha.pop()\n",
        "      print(f\"Página removida: {urlRemovida}\")\n",
        "    else:\n",
        "      print(\"Não há páginas para voltar.\")\n",
        "\n",
        "  def exibirHistorico(self):\n",
        "    if not self.pilha:\n",
        "      print(\"Histórico vazio.\")\n",
        "    else:\n",
        "      for url in reversed(self.pilha):\n",
        "        print(url)\n",
        "\n",
        "  def paginaAtual(self):\n",
        "    if self.pilha:\n",
        "      urlAtual = self.pilha[-1]\n",
        "      print(f\"Página atual: {urlAtual}\")\n",
        "    else:\n",
        "      print(\"Sem páginas abertas\")\n",
        "\n",
        "  def limparHistorico(self):\n",
        "    self.pilha.clear()\n",
        "    print(\"Histórico limpo.\")\n",
        "\n",
        "historico = historicoNavegacao()"
      ]
    },
    {
      "cell_type": "markdown",
      "source": [
        "##Funcionamento"
      ],
      "metadata": {
        "id": "YLrCnU-tDctH"
      }
    },
    {
      "cell_type": "code",
      "source": [
        "print(\"\\n Navegador Web\")\n",
        "print(\"Digite URLs para visitar ou use os comandos abaixo:\")\n",
        "print(\"* 'voltar' para voltar à página anterior\")\n",
        "print(\"* 'historico' para exibir o histórico\")\n",
        "print(\"* 'atual' para mostrar a página atual\")\n",
        "print(\"* 'limpar' para limpar o histórico\")\n",
        "print(\"* 'sair' para encerrar o programa\")\n",
        "\n",
        "while True:\n",
        "  entrada = input(\"\\nDigite uma URL ou comando: \").strip().lower()\n",
        "\n",
        "  if entrada == \"sair\":\n",
        "    print(\"Encerrando o navegador...\")\n",
        "    break\n",
        "  elif entrada == \"voltar\":\n",
        "    historico.voltarPagina()\n",
        "  elif entrada == \"historico\":\n",
        "    print(\"\\nHistórico de navegação:\")\n",
        "    historico.exibirHistorico()\n",
        "  elif entrada == \"atual\":\n",
        "    historico.paginaAtual()\n",
        "  elif entrada == \"limpar\":\n",
        "    historico.limparHistorico()\n",
        "  elif entrada == \"\":\n",
        "    print(\"Entrada vazia. Tente novamente.\")\n",
        "  else:\n",
        "    historico.visitarPagina(entrada)"
      ],
      "metadata": {
        "colab": {
          "base_uri": "https://localhost:8080/"
        },
        "id": "j7sFd1ZWDgGH",
        "outputId": "2923059d-2312-4ee2-bfae-d13d46db46c3"
      },
      "execution_count": 12,
      "outputs": [
        {
          "output_type": "stream",
          "name": "stdout",
          "text": [
            "\n",
            " Navegador Web\n",
            "Digite URLs para visitar ou use os comandos abaixo:\n",
            "* 'voltar' para voltar à página anterior\n",
            "* 'historico' para exibir o histórico\n",
            "* 'atual' para mostrar a página atual\n",
            "* 'limpar' para limpar o histórico\n",
            "* 'sair' para encerrar o programa\n",
            "\n",
            "Digite uma URL ou comando: primeirapagina.com\n",
            "Página visitada: primeirapagina.com\n",
            "\n",
            "Digite uma URL ou comando: segundapagina.com\n",
            "Página visitada: segundapagina.com\n",
            "\n",
            "Digite uma URL ou comando: terceirapagina.com\n",
            "Página visitada: terceirapagina.com\n",
            "\n",
            "Digite uma URL ou comando: quartapagina.com\n",
            "Página visitada: quartapagina.com\n",
            "\n",
            "Digite uma URL ou comando: historico\n",
            "\n",
            "Histórico de navegação:\n",
            "quartapagina.com\n",
            "terceirapagina.com\n",
            "segundapagina.com\n",
            "primeirapagina.com\n",
            "\n",
            "Digite uma URL ou comando: voltar\n",
            "Página removida: quartapagina.com\n",
            "\n",
            "Digite uma URL ou comando: atual\n",
            "Página atual: terceirapagina.com\n",
            "\n",
            "Digite uma URL ou comando: historico\n",
            "\n",
            "Histórico de navegação:\n",
            "terceirapagina.com\n",
            "segundapagina.com\n",
            "primeirapagina.com\n",
            "\n",
            "Digite uma URL ou comando: limpar\n",
            "Histórico limpo.\n",
            "\n",
            "Digite uma URL ou comando: novapagina.com\n",
            "Página visitada: novapagina.com\n",
            "\n",
            "Digite uma URL ou comando: historico\n",
            "\n",
            "Histórico de navegação:\n",
            "novapagina.com\n",
            "\n",
            "Digite uma URL ou comando: sair\n",
            "Encerrando o navegador...\n"
          ]
        }
      ]
    }
  ]
}